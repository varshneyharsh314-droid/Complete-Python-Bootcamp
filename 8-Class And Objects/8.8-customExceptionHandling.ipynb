{
 "cells": [
  {
   "cell_type": "markdown",
   "id": "77d2ad81",
   "metadata": {},
   "source": [
    "#  Custom Exception Handling in Python\n"
   ]
  },
  {
   "cell_type": "markdown",
   "id": "e4172514",
   "metadata": {},
   "source": [
    "### Introduction to Custom Exception Handling\n",
    "In this session, we continue our discussion on Python by focusing on custom exceptions. The objective is to understand how to raise and throw custom exceptions, which is essential for handling specific error scenarios in projects."
   ]
  },
  {
   "cell_type": "markdown",
   "id": "2adde959",
   "metadata": {},
   "source": [
    "### Creating Custom Exception Classes\n",
    "Developers often need to create their own custom exception handlers to manage different types of exceptions that can occur in applications. To demonstrate this, consider a scenario involving an exam form where the age requirement is between 20 and 30. If the entered age does not fall within this bracket, a custom exception should be raised."
   ]
  },
  {
   "cell_type": "code",
   "execution_count": 1,
   "id": "214e7897",
   "metadata": {},
   "outputs": [],
   "source": [
    "class Error(Exception):\n",
    "    pass\n",
    "\n",
    "class DOBException(Error):\n",
    "    pass"
   ]
  },
  {
   "cell_type": "markdown",
   "id": "3bc4edbf",
   "metadata": {},
   "source": [
    "### Implementing the Age Validation Logic\n",
    "Next, we implement the logic to validate the user's age based on their year of birth. The program prompts the user to enter their date of birth, calculates the age, and checks if it falls within the valid range.\n"
   ]
  },
  {
   "cell_type": "code",
   "execution_count": 2,
   "id": "cdd65317",
   "metadata": {},
   "outputs": [
    {
     "ename": "DOBException",
     "evalue": "",
     "output_type": "error",
     "traceback": [
      "\u001b[1;31m---------------------------------------------------------------------------\u001b[0m",
      "\u001b[1;31mDOBException\u001b[0m                              Traceback (most recent call last)",
      "Cell \u001b[1;32mIn[2], line 6\u001b[0m\n\u001b[0;32m      4\u001b[0m     \u001b[38;5;28mprint\u001b[39m(\u001b[38;5;124m'\u001b[39m\u001b[38;5;124mThe age is valid. You can apply for the exams.\u001b[39m\u001b[38;5;124m'\u001b[39m)\n\u001b[0;32m      5\u001b[0m \u001b[38;5;28;01melse\u001b[39;00m:\n\u001b[1;32m----> 6\u001b[0m     \u001b[38;5;28;01mraise\u001b[39;00m DOBException\n",
      "\u001b[1;31mDOBException\u001b[0m: "
     ]
    }
   ],
   "source": [
    "year = int(input('Please enter your date of birth: '))\n",
    "age = 2024 - year\n",
    "if age >= 20 and age <= 30:\n",
    "    print('The age is valid. You can apply for the exams.')\n",
    "else:\n",
    "    raise DOBException"
   ]
  },
  {
   "cell_type": "markdown",
   "id": "1e2704a4",
   "metadata": {},
   "source": [
    "### Exception Handling with Try-Except Blocks"
   ]
  },
  {
   "cell_type": "markdown",
   "id": "0f00a554",
   "metadata": {},
   "source": [
    "When raising a custom exception, it is important to handle it using a try-except block. This ensures that the program can catch and respond to the exception appropriately, providing a clear message to the user."
   ]
  },
  {
   "cell_type": "code",
   "execution_count": 3,
   "id": "39c050fa",
   "metadata": {},
   "outputs": [
    {
     "name": "stdout",
     "output_type": "stream",
     "text": [
      "Your age should be greater than 20 or less than 30.\n"
     ]
    }
   ],
   "source": [
    "try:\n",
    "    year = int(input('Please enter your date of birth: '))\n",
    "    age = 2024 - year\n",
    "    if age >= 20 and age <= 30:\n",
    "        print('The age is valid. You can apply for the exams.')\n",
    "    else:\n",
    "        raise DOBException\n",
    "except DOBException:\n",
    "    print('Your age should be greater than 20 or less than 30.')"
   ]
  },
  {
   "cell_type": "markdown",
   "id": "604590fd",
   "metadata": {},
   "source": [
    "### Importance of Custom Exception Handling"
   ]
  },
  {
   "cell_type": "markdown",
   "id": "5c36d17d",
   "metadata": {},
   "source": [
    "By raising and catching custom exceptions, developers can provide more meaningful error messages to end users. This approach is especially useful in end-to-end applications, where exception handling and logging are critical for identifying and communicating issues that arise due to user input rather than coding errors."
   ]
  }
 ],
 "metadata": {
  "kernelspec": {
   "display_name": "Python 3",
   "language": "python",
   "name": "python3"
  },
  "language_info": {
   "codemirror_mode": {
    "name": "ipython",
    "version": 3
   },
   "file_extension": ".py",
   "mimetype": "text/x-python",
   "name": "python",
   "nbconvert_exporter": "python",
   "pygments_lexer": "ipython3",
   "version": "3.10.0"
  }
 },
 "nbformat": 4,
 "nbformat_minor": 5
}
